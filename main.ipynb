{
 "metadata": {
  "language_info": {
   "codemirror_mode": {
    "name": "ipython",
    "version": 3
   },
   "file_extension": ".py",
   "mimetype": "text/x-python",
   "name": "python",
   "nbconvert_exporter": "python",
   "pygments_lexer": "ipython3",
   "version": "3.8.10"
  },
  "orig_nbformat": 4,
  "kernelspec": {
   "name": "python3",
   "display_name": "Python 3.8.10 64-bit"
  },
  "interpreter": {
   "hash": "31f2aee4e71d21fbe5cf8b01ff0e069b9275f58929596ceb00d14d90e3e16cd6"
  }
 },
 "nbformat": 4,
 "nbformat_minor": 2,
 "cells": [
  {
   "cell_type": "code",
   "execution_count": 11,
   "metadata": {},
   "outputs": [],
   "source": [
    "import numpy as np \n",
    "import pandas as pd \n",
    "import matplotlib.pyplot as plt \n",
    "import seaborn as sns \n",
    "import os\n",
    "\n",
    "family_data = pd.read_csv('./data/family_data.csv')\n",
    "sample_submission = pd.read_csv('./data/sample_submission.csv')\n"
   ]
  },
  {
   "cell_type": "code",
   "execution_count": 12,
   "metadata": {},
   "outputs": [
    {
     "output_type": "execute_result",
     "data": {
      "text/plain": [
       "   family_id  choice_0  choice_1  choice_2  choice_3  choice_4  choice_5  \\\n",
       "0          0        52        38        12        82        33        75   \n",
       "1          1        26         4        82         5        11        47   \n",
       "2          2       100        54        25        12        27        82   \n",
       "3          3         2        95         1        96        32         6   \n",
       "4          4        53         1        47        93        26         3   \n",
       "5          5        32        59        12         3        60        26   \n",
       "6          6        88         4         1         3        91        32   \n",
       "7          7        25        11        52        48        10        17   \n",
       "8          8        18        60         1        12        89        33   \n",
       "9          9         1        88        39        50        26        18   \n",
       "\n",
       "   choice_6  choice_7  choice_8  choice_9  n_people  \n",
       "0        64        76        10        28         4  \n",
       "1        38         6        66        61         4  \n",
       "2        10        89        80        33         3  \n",
       "3        40        31         9        59         2  \n",
       "4        46        16        42        39         4  \n",
       "5        35        50         5         2         4  \n",
       "6        39        57        28        99         2  \n",
       "7        88        50        95        66         5  \n",
       "8        16        10        53        67         4  \n",
       "9        96        47        46        28         7  "
      ],
      "text/html": "<div>\n<style scoped>\n    .dataframe tbody tr th:only-of-type {\n        vertical-align: middle;\n    }\n\n    .dataframe tbody tr th {\n        vertical-align: top;\n    }\n\n    .dataframe thead th {\n        text-align: right;\n    }\n</style>\n<table border=\"1\" class=\"dataframe\">\n  <thead>\n    <tr style=\"text-align: right;\">\n      <th></th>\n      <th>family_id</th>\n      <th>choice_0</th>\n      <th>choice_1</th>\n      <th>choice_2</th>\n      <th>choice_3</th>\n      <th>choice_4</th>\n      <th>choice_5</th>\n      <th>choice_6</th>\n      <th>choice_7</th>\n      <th>choice_8</th>\n      <th>choice_9</th>\n      <th>n_people</th>\n    </tr>\n  </thead>\n  <tbody>\n    <tr>\n      <th>0</th>\n      <td>0</td>\n      <td>52</td>\n      <td>38</td>\n      <td>12</td>\n      <td>82</td>\n      <td>33</td>\n      <td>75</td>\n      <td>64</td>\n      <td>76</td>\n      <td>10</td>\n      <td>28</td>\n      <td>4</td>\n    </tr>\n    <tr>\n      <th>1</th>\n      <td>1</td>\n      <td>26</td>\n      <td>4</td>\n      <td>82</td>\n      <td>5</td>\n      <td>11</td>\n      <td>47</td>\n      <td>38</td>\n      <td>6</td>\n      <td>66</td>\n      <td>61</td>\n      <td>4</td>\n    </tr>\n    <tr>\n      <th>2</th>\n      <td>2</td>\n      <td>100</td>\n      <td>54</td>\n      <td>25</td>\n      <td>12</td>\n      <td>27</td>\n      <td>82</td>\n      <td>10</td>\n      <td>89</td>\n      <td>80</td>\n      <td>33</td>\n      <td>3</td>\n    </tr>\n    <tr>\n      <th>3</th>\n      <td>3</td>\n      <td>2</td>\n      <td>95</td>\n      <td>1</td>\n      <td>96</td>\n      <td>32</td>\n      <td>6</td>\n      <td>40</td>\n      <td>31</td>\n      <td>9</td>\n      <td>59</td>\n      <td>2</td>\n    </tr>\n    <tr>\n      <th>4</th>\n      <td>4</td>\n      <td>53</td>\n      <td>1</td>\n      <td>47</td>\n      <td>93</td>\n      <td>26</td>\n      <td>3</td>\n      <td>46</td>\n      <td>16</td>\n      <td>42</td>\n      <td>39</td>\n      <td>4</td>\n    </tr>\n    <tr>\n      <th>5</th>\n      <td>5</td>\n      <td>32</td>\n      <td>59</td>\n      <td>12</td>\n      <td>3</td>\n      <td>60</td>\n      <td>26</td>\n      <td>35</td>\n      <td>50</td>\n      <td>5</td>\n      <td>2</td>\n      <td>4</td>\n    </tr>\n    <tr>\n      <th>6</th>\n      <td>6</td>\n      <td>88</td>\n      <td>4</td>\n      <td>1</td>\n      <td>3</td>\n      <td>91</td>\n      <td>32</td>\n      <td>39</td>\n      <td>57</td>\n      <td>28</td>\n      <td>99</td>\n      <td>2</td>\n    </tr>\n    <tr>\n      <th>7</th>\n      <td>7</td>\n      <td>25</td>\n      <td>11</td>\n      <td>52</td>\n      <td>48</td>\n      <td>10</td>\n      <td>17</td>\n      <td>88</td>\n      <td>50</td>\n      <td>95</td>\n      <td>66</td>\n      <td>5</td>\n    </tr>\n    <tr>\n      <th>8</th>\n      <td>8</td>\n      <td>18</td>\n      <td>60</td>\n      <td>1</td>\n      <td>12</td>\n      <td>89</td>\n      <td>33</td>\n      <td>16</td>\n      <td>10</td>\n      <td>53</td>\n      <td>67</td>\n      <td>4</td>\n    </tr>\n    <tr>\n      <th>9</th>\n      <td>9</td>\n      <td>1</td>\n      <td>88</td>\n      <td>39</td>\n      <td>50</td>\n      <td>26</td>\n      <td>18</td>\n      <td>96</td>\n      <td>47</td>\n      <td>46</td>\n      <td>28</td>\n      <td>7</td>\n    </tr>\n  </tbody>\n</table>\n</div>"
     },
     "metadata": {},
     "execution_count": 12
    }
   ],
   "source": [
    "family_data.head(10)"
   ]
  },
  {
   "cell_type": "code",
   "execution_count": 13,
   "metadata": {},
   "outputs": [
    {
     "output_type": "execute_result",
     "data": {
      "text/plain": [
       "   family_id  assigned_day\n",
       "0          0           100\n",
       "1          1            99\n",
       "2          2            98\n",
       "3          3            97\n",
       "4          4            96\n",
       "5          5            95\n",
       "6          6            94\n",
       "7          7            93\n",
       "8          8            92\n",
       "9          9            91"
      ],
      "text/html": "<div>\n<style scoped>\n    .dataframe tbody tr th:only-of-type {\n        vertical-align: middle;\n    }\n\n    .dataframe tbody tr th {\n        vertical-align: top;\n    }\n\n    .dataframe thead th {\n        text-align: right;\n    }\n</style>\n<table border=\"1\" class=\"dataframe\">\n  <thead>\n    <tr style=\"text-align: right;\">\n      <th></th>\n      <th>family_id</th>\n      <th>assigned_day</th>\n    </tr>\n  </thead>\n  <tbody>\n    <tr>\n      <th>0</th>\n      <td>0</td>\n      <td>100</td>\n    </tr>\n    <tr>\n      <th>1</th>\n      <td>1</td>\n      <td>99</td>\n    </tr>\n    <tr>\n      <th>2</th>\n      <td>2</td>\n      <td>98</td>\n    </tr>\n    <tr>\n      <th>3</th>\n      <td>3</td>\n      <td>97</td>\n    </tr>\n    <tr>\n      <th>4</th>\n      <td>4</td>\n      <td>96</td>\n    </tr>\n    <tr>\n      <th>5</th>\n      <td>5</td>\n      <td>95</td>\n    </tr>\n    <tr>\n      <th>6</th>\n      <td>6</td>\n      <td>94</td>\n    </tr>\n    <tr>\n      <th>7</th>\n      <td>7</td>\n      <td>93</td>\n    </tr>\n    <tr>\n      <th>8</th>\n      <td>8</td>\n      <td>92</td>\n    </tr>\n    <tr>\n      <th>9</th>\n      <td>9</td>\n      <td>91</td>\n    </tr>\n  </tbody>\n</table>\n</div>"
     },
     "metadata": {},
     "execution_count": 13
    }
   ],
   "source": [
    "sample_submission.head(10)"
   ]
  },
  {
   "cell_type": "code",
   "execution_count": null,
   "metadata": {},
   "outputs": [],
   "source": []
  }
 ]
}